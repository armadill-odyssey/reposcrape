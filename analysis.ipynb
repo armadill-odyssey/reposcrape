{
 "cells": [
  {
   "cell_type": "code",
   "execution_count": 18,
   "metadata": {
    "collapsed": false,
    "deletable": true,
    "editable": true
   },
   "outputs": [
    {
     "name": "stdout",
     "output_type": "stream",
     "text": [
      "done\n"
     ]
    }
   ],
   "source": [
    "import pandas as pd\n",
    "import json\n",
    "import os\n",
    "\n",
    "data_dir = '/Users/coreysery/Developer/School/CSC3130/reposcrape/data/'\n",
    "\n",
    "alldata = {}\n",
    "\"\"\"\n",
    "Alldata structure\n",
    "\n",
    "[date]\n",
    "    [lang]\n",
    "        [repo]\n",
    "            author\n",
    "            desc\n",
    "            forks\n",
    "            lang\n",
    "            repo\n",
    "            repoLink\n",
    "            stars\n",
    "            starsToday\n",
    "\"\"\"\n",
    "\n",
    "for filename in os.listdir(data_dir):\n",
    "    date = filename.split('.')[0]\n",
    "    with open(data_dir + filename) as json_data:\n",
    "        alldata[date] = json.load(json_data)\n",
    "        \n",
    "print('done')\n",
    "\n",
    "\n"
   ]
  },
  {
   "cell_type": "code",
   "execution_count": null,
   "metadata": {
    "collapsed": false,
    "deletable": true,
    "editable": true
   },
   "outputs": [],
   "source": [
    "\n"
   ]
  },
  {
   "cell_type": "code",
   "execution_count": 19,
   "metadata": {
    "collapsed": false,
    "deletable": true,
    "editable": true
   },
   "outputs": [],
   "source": [
    "# Top Trending repos\n",
    "import operator\n",
    "\n",
    "def reposBy(field, date, n=50):\n",
    "    \"\"\"\n",
    "    Sort repos for given day\n",
    "    \n",
    "    Args:\n",
    "        field: Field to sort by (stars, stars today, or forks)\n",
    "        date: Date to pull from the alldata dictionary\n",
    "        n: Return the top n repos\n",
    "        \n",
    "    Returns:\n",
    "        Sorted list of sets\n",
    "        Each set is (repo, count)\n",
    "        where count is the sum of the given field for the repo\n",
    "    \"\"\"\n",
    "    \n",
    "    # Check that day exists\n",
    "    if alldata[date] is None:\n",
    "        return []\n",
    "    \n",
    "    \n",
    "    results = {}\n",
    "\n",
    "    for lang, repos in alldata[date].items():\n",
    "        for r in repos:\n",
    "            name = r['repo']\n",
    "            results[name] = r[field]\n",
    "\n",
    "    return results\n",
    "\n"
   ]
  },
  {
   "cell_type": "code",
   "execution_count": 24,
   "metadata": {
    "collapsed": false,
    "deletable": true,
    "editable": true
   },
   "outputs": [],
   "source": [
    "# Top Trending Languages\n",
    "\n",
    "import operator\n",
    "\n",
    "def languagesBy(field, date, n=50):\n",
    "    \"\"\"\n",
    "    Sort languages for given day\n",
    "    \n",
    "    Args:\n",
    "        field: Field to sort by (stars, stars today, or forks)\n",
    "        date: Date to pull from the alldata dictionary\n",
    "        n: Return the top n languages\n",
    "        \n",
    "    Returns:\n",
    "        Sorted list of sets\n",
    "        Each set is (language, count)\n",
    "        where count is the sum of the given field for the language\n",
    "    \"\"\"\n",
    "    \n",
    "    # Check that day exists\n",
    "    if alldata[date] is None:\n",
    "        return []\n",
    "    \n",
    "    results = {}\n",
    "    for lang, repos in alldata[date].items():\n",
    "        results[lang] = 0\n",
    "        for r in repos:\n",
    "            results[lang] += r[field]\n",
    "\n",
    "    return results\n",
    "\n"
   ]
  },
  {
   "cell_type": "code",
   "execution_count": 13,
   "metadata": {
    "collapsed": false,
    "deletable": true,
    "editable": true
   },
   "outputs": [],
   "source": [
    "def getAll(func, args):\n",
    "    by = {}\n",
    "\n",
    "    for date in alldata.keys():\n",
    "#         byStars[date] = reposBy('forks', date, 10)\n",
    "        by[date] = func(args.split())\n",
    "\n",
    "    results = {}\n",
    "    for date in by:\n",
    "        for pair in by[date]:\n",
    "            repo = pair[0]\n",
    "            if not repo in results:\n",
    "                results[repo] = []\n",
    "\n",
    "            results[repo].append(pair[1])\n",
    "\n",
    "    return results"
   ]
  },
  {
   "cell_type": "code",
   "execution_count": 1,
   "metadata": {
    "collapsed": false,
    "deletable": true,
    "editable": true
   },
   "outputs": [
    {
     "data": {
      "text/html": [
       "<script>requirejs.config({paths: { 'plotly': ['https://cdn.plot.ly/plotly-latest.min']},});if(!window.Plotly) {{require(['plotly'],function(plotly) {window.Plotly=plotly;});}}</script>"
      ],
      "text/plain": [
       "<IPython.core.display.HTML object>"
      ]
     },
     "metadata": {},
     "output_type": "display_data"
    },
    {
     "ename": "NameError",
     "evalue": "name 'alldata' is not defined",
     "output_type": "error",
     "traceback": [
      "\u001b[0;31m---------------------------------------------------------------------------\u001b[0m",
      "\u001b[0;31mNameError\u001b[0m                                 Traceback (most recent call last)",
      "\u001b[0;32m<ipython-input-1-8063a4fc6931>\u001b[0m in \u001b[0;36m<module>\u001b[0;34m()\u001b[0m\n\u001b[1;32m      9\u001b[0m \u001b[0mbyStars\u001b[0m \u001b[0;34m=\u001b[0m \u001b[0;34m{\u001b[0m\u001b[0;34m}\u001b[0m\u001b[0;34m\u001b[0m\u001b[0m\n\u001b[1;32m     10\u001b[0m \u001b[0;34m\u001b[0m\u001b[0m\n\u001b[0;32m---> 11\u001b[0;31m \u001b[0;32mfor\u001b[0m \u001b[0mdate\u001b[0m \u001b[0;32min\u001b[0m \u001b[0malldata\u001b[0m\u001b[0;34m.\u001b[0m\u001b[0mkeys\u001b[0m\u001b[0;34m(\u001b[0m\u001b[0;34m)\u001b[0m\u001b[0;34m:\u001b[0m\u001b[0;34m\u001b[0m\u001b[0m\n\u001b[0m\u001b[1;32m     12\u001b[0m     \u001b[0mbyStars\u001b[0m\u001b[0;34m[\u001b[0m\u001b[0mdate\u001b[0m\u001b[0;34m]\u001b[0m \u001b[0;34m=\u001b[0m \u001b[0mreposBy\u001b[0m\u001b[0;34m(\u001b[0m\u001b[0;34m'stars'\u001b[0m\u001b[0;34m,\u001b[0m \u001b[0mdate\u001b[0m\u001b[0;34m,\u001b[0m \u001b[0;36m10\u001b[0m\u001b[0;34m)\u001b[0m\u001b[0;34m\u001b[0m\u001b[0m\n\u001b[1;32m     13\u001b[0m \u001b[0;34m\u001b[0m\u001b[0m\n",
      "\u001b[0;31mNameError\u001b[0m: name 'alldata' is not defined"
     ]
    }
   ],
   "source": [
    "import plotly\n",
    "import plotly.plotly as py\n",
    "import plotly.graph_objs as go\n",
    "from plotly.offline import download_plotlyjs, init_notebook_mode, plot, iplot\n",
    "\n",
    "# Needed to run plotly offline\n",
    "init_notebook_mode(connected=True)\n",
    "\n",
    "byStars = {}\n",
    "\n",
    "for date in alldata.keys():\n",
    "    byStars[date] = reposBy('stars', date, 10)\n",
    "    \n",
    "results = {}\n",
    "for date in byStars:\n",
    "    print(by)\n",
    "    for pair in byStars[date]:\n",
    "        repo = pair[0]\n",
    "        if not repo in results:\n",
    "            results[repo] = []\n",
    "\n",
    "        results[repo].append(pair[1])\n",
    "\n",
    "traces = []\n",
    "for repo, history in results.items():\n",
    "    traces.append(go.Scatter(\n",
    "#         x = history,\n",
    "        y = history,\n",
    "        name = repo\n",
    "    ))\n",
    "\n",
    "iplot(traces)\n",
    "\n",
    "    "
   ]
  },
  {
   "cell_type": "code",
   "execution_count": 11,
   "metadata": {
    "collapsed": false,
    "deletable": true,
    "editable": true
   },
   "outputs": [],
   "source": [
    "def velocity(top):\n",
    "    return 0\n",
    "    "
   ]
  },
  {
   "cell_type": "code",
   "execution_count": 12,
   "metadata": {
    "collapsed": false,
    "deletable": true,
    "editable": true
   },
   "outputs": [
    {
     "ename": "NameError",
     "evalue": "name 'date' is not defined",
     "output_type": "error",
     "traceback": [
      "\u001b[0;31m---------------------------------------------------------------------------\u001b[0m",
      "\u001b[0;31mNameError\u001b[0m                                 Traceback (most recent call last)",
      "\u001b[0;32m<ipython-input-12-7ffe3909beb4>\u001b[0m in \u001b[0;36m<module>\u001b[0;34m()\u001b[0m\n\u001b[0;32m----> 1\u001b[0;31m \u001b[0mvelocity\u001b[0m\u001b[0;34m(\u001b[0m\u001b[0mreposBy\u001b[0m\u001b[0;34m(\u001b[0m\u001b[0;34m'forks'\u001b[0m\u001b[0;34m,\u001b[0m \u001b[0mdate\u001b[0m\u001b[0;34m,\u001b[0m \u001b[0;36m10\u001b[0m\u001b[0;34m)\u001b[0m\u001b[0;34m)\u001b[0m\u001b[0;34m\u001b[0m\u001b[0m\n\u001b[0m",
      "\u001b[0;31mNameError\u001b[0m: name 'date' is not defined"
     ]
    }
   ],
   "source": [
    "velocity(reposBy('forks', date, 10))"
   ]
  },
  {
   "cell_type": "code",
   "execution_count": null,
   "metadata": {
    "collapsed": true,
    "deletable": true,
    "editable": true
   },
   "outputs": [],
   "source": []
  },
  {
   "cell_type": "code",
   "execution_count": null,
   "metadata": {
    "collapsed": true,
    "deletable": true,
    "editable": true
   },
   "outputs": [],
   "source": []
  }
 ],
 "metadata": {
  "kernelspec": {
   "display_name": "csc3130_Python3",
   "language": "python",
   "name": "csc3130_python3"
  },
  "language_info": {
   "codemirror_mode": {
    "name": "ipython",
    "version": 3
   },
   "file_extension": ".py",
   "mimetype": "text/x-python",
   "name": "python",
   "nbconvert_exporter": "python",
   "pygments_lexer": "ipython3",
   "version": "3.5.2"
  }
 },
 "nbformat": 4,
 "nbformat_minor": 2
}
